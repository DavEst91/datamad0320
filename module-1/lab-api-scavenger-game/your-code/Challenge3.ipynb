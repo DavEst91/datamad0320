{
 "cells": [
  {
   "cell_type": "code",
   "execution_count": 2,
   "metadata": {},
   "outputs": [],
   "source": [
    "import requests\n",
    "import os\n",
    "from dotenv import load_dotenv\n",
    "import json\n",
    "import base64"
   ]
  },
  {
   "cell_type": "markdown",
   "metadata": {},
   "source": [
    "Setting the token:"
   ]
  },
  {
   "cell_type": "code",
   "execution_count": 5,
   "metadata": {},
   "outputs": [
    {
     "name": "stdout",
     "output_type": "stream",
     "text": [
      "WE HAVE APIKEY\n"
     ]
    }
   ],
   "source": [
    "load_dotenv()\n",
    "apiKey = os.getenv(\"GITHUB_APIKEY\")\n",
    "print(\"WE HAVE APIKEY\") if apiKey else print(\"NO APIKEY FOUND\")"
   ]
  },
  {
   "cell_type": "code",
   "execution_count": 6,
   "metadata": {},
   "outputs": [],
   "source": [
    "def make_request_git(url='https://api.github.com/repos/ironhack-datalabs/datamad0320/',modifiers='', status=False):\n",
    "    res=requests.get(f\"{url}{modifiers}\", headers={\"Authorization\":f\"token {apiKey}\"})\n",
    "    if status==True:\n",
    "        print(f\"{url}{modifiers}\")\n",
    "        print(f'Status code is {res.status_code}')\n",
    "    return res.json()\n"
   ]
  },
  {
   "cell_type": "markdown",
   "metadata": {},
   "source": [
    "# Challenge 3 : Hidden Cold Joke"
   ]
  },
  {
   "cell_type": "code",
   "execution_count": 7,
   "metadata": {},
   "outputs": [],
   "source": [
    "url_scavengers=\"https://api.github.com/repos/ironhack-datalabs/scavenger/contents/\"\n",
    "request=make_request_git(url=url_scavengers,status=False)"
   ]
  },
  {
   "cell_type": "code",
   "execution_count": null,
   "metadata": {
    "scrolled": true
   },
   "outputs": [],
   "source": [
    "diccionario={} #we create a dictionary to stre the results\n",
    "for carpeta in request:\n",
    "    #First we obtain all the folders in the parent directory\n",
    "    url_listado_archivos=url_scavengers+carpeta['path']\n",
    "    #We make a call for each folder to obtain its files\n",
    "    listado_archivos_subcarpeta=make_request_git(url=url_listado_archivos)\n",
    "    for archivos in listado_archivos_subcarpeta:\n",
    "        if type(archivos)==dict and 'scavengerhunt' in archivos['name']:\n",
    "            #we make a call to the URL of individual files only if conditions are satisfied\n",
    "            contenido=make_request_git(url=archivos['url'])\n",
    "            diccionario[archivos['name']]= base64.b64decode(contenido['content']).decode().replace('\\n','')\n",
    "            #Looking at the key: content we can decode the content for each file and store it in a dictionary\n"
   ]
  },
  {
   "cell_type": "code",
   "execution_count": 10,
   "metadata": {},
   "outputs": [
    {
     "name": "stdout",
     "output_type": "stream",
     "text": [
      "In data science, 80 percent of time spent is preparing data, 20 percent of time is spent complaining about the need to prepare data. "
     ]
    }
   ],
   "source": [
    "#since the last step is a little time consuming we make a copy to avoid repeating the request to the API\n",
    "diccionary_copy=diccionario\n",
    "for key in sorted(diccionario.keys()):\n",
    "    print(diccionario[key],end=' ')"
   ]
  }
 ],
 "metadata": {
  "kernelspec": {
   "display_name": "Python 3",
   "language": "python",
   "name": "python3"
  },
  "language_info": {
   "codemirror_mode": {
    "name": "ipython",
    "version": 3
   },
   "file_extension": ".py",
   "mimetype": "text/x-python",
   "name": "python",
   "nbconvert_exporter": "python",
   "pygments_lexer": "ipython3",
   "version": "3.6.9"
  }
 },
 "nbformat": 4,
 "nbformat_minor": 2
}
