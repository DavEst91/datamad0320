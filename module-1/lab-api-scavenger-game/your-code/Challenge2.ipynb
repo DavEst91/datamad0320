{
 "cells": [
  {
   "cell_type": "code",
   "execution_count": 1,
   "metadata": {},
   "outputs": [],
   "source": [
    "import requests\n",
    "import os\n",
    "from dotenv import load_dotenv\n",
    "import json\n",
    "import base64"
   ]
  },
  {
   "cell_type": "markdown",
   "metadata": {},
   "source": [
    "Setting the token:"
   ]
  },
  {
   "cell_type": "code",
   "execution_count": 2,
   "metadata": {},
   "outputs": [
    {
     "name": "stdout",
     "output_type": "stream",
     "text": [
      "WE HAVE APIKEY\n"
     ]
    }
   ],
   "source": [
    "load_dotenv()\n",
    "apiKey = os.getenv(\"GITHUB_APIKEY\")\n",
    "print(\"WE HAVE APIKEY\") if apiKey else print(\"NO APIKEY FOUND\")"
   ]
  },
  {
   "cell_type": "code",
   "execution_count": 3,
   "metadata": {},
   "outputs": [],
   "source": [
    "def make_request_git(url='https://api.github.com/repos/ironhack-datalabs/datamad0320/',modifiers='', status=False):\n",
    "    res=requests.get(f\"{url}{modifiers}\", headers={\"Authorization\":f\"token {apiKey}\"})\n",
    "    if status==True:\n",
    "        print(f\"{url}{modifiers}\")\n",
    "        print(f'Status code is {res.status_code}')\n",
    "    return res.json()\n"
   ]
  },
  {
   "cell_type": "markdown",
   "metadata": {},
   "source": [
    "# Challenge 2: Count Commits"
   ]
  },
  {
   "cell_type": "markdown",
   "metadata": {},
   "source": [
    "For some reason, unknown for me, the modifier 'since' give an empty answer doesn't work but \"until\" does work. I leave here the code I'd use\n",
    "\n",
    "res=make_request_git(modifiers=\"commits?since=2020-03-30T00:00:00Z\"&until=2020-04-05T23:59:59Z\",status=True)"
   ]
  },
  {
   "cell_type": "code",
   "execution_count": 4,
   "metadata": {},
   "outputs": [
    {
     "name": "stdout",
     "output_type": "stream",
     "text": [
      "Number of commits last week is 3\n"
     ]
    }
   ],
   "source": [
    "res=make_request_git(modifiers=\"commits?until=2020-04-05T23:59:59Z\",status=False)\n",
    "print(f\"Number of commits last week is {len(res)}\")"
   ]
  }
 ],
 "metadata": {
  "kernelspec": {
   "display_name": "Python 3",
   "language": "python",
   "name": "python3"
  },
  "language_info": {
   "codemirror_mode": {
    "name": "ipython",
    "version": 3
   },
   "file_extension": ".py",
   "mimetype": "text/x-python",
   "name": "python",
   "nbconvert_exporter": "python",
   "pygments_lexer": "ipython3",
   "version": "3.6.9"
  }
 },
 "nbformat": 4,
 "nbformat_minor": 2
}
