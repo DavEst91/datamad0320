{
 "cells": [
  {
   "cell_type": "code",
   "execution_count": 6,
   "metadata": {},
   "outputs": [],
   "source": [
    "import requests\n",
    "import os\n",
    "from dotenv import load_dotenv\n",
    "import json\n",
    "import base64"
   ]
  },
  {
   "cell_type": "markdown",
   "metadata": {},
   "source": [
    "Setting the token:"
   ]
  },
  {
   "cell_type": "code",
   "execution_count": 7,
   "metadata": {},
   "outputs": [
    {
     "name": "stdout",
     "output_type": "stream",
     "text": [
      "WE HAVE APIKEY\n"
     ]
    }
   ],
   "source": [
    "load_dotenv()\n",
    "apiKey = os.getenv(\"GITHUB_APIKEY\")\n",
    "print(\"WE HAVE APIKEY\") if apiKey else print(\"NO APIKEY FOUND\")"
   ]
  },
  {
   "cell_type": "code",
   "execution_count": 8,
   "metadata": {},
   "outputs": [],
   "source": [
    "def make_request_git(url='https://api.github.com/repos/ironhack-datalabs/datamad0320/',modifiers='', status=False):\n",
    "    res=requests.get(f\"{url}{modifiers}\", headers={\"Authorization\":f\"token {apiKey}\"})\n",
    "    if status==True:\n",
    "        print(f\"{url}{modifiers}\")\n",
    "        print(f'Status code is {res.status_code}')\n",
    "    return res.json()\n"
   ]
  },
  {
   "cell_type": "markdown",
   "metadata": {},
   "source": [
    "# Challenge 1: Fork lenguages"
   ]
  },
  {
   "cell_type": "code",
   "execution_count": 9,
   "metadata": {},
   "outputs": [
    {
     "name": "stdout",
     "output_type": "stream",
     "text": [
      "['Jupyter Notebook', 'HTML', 'Python']\n"
     ]
    }
   ],
   "source": [
    "lista_lenguajes=[]\n",
    "\n",
    "respuesta=make_request_git(modifiers='forks')\n",
    "\n",
    "for elemento in respuesta:\n",
    "    res2=make_request_git(url=elemento['languages_url'])\n",
    "    for lenguage in res2.keys():\n",
    "        if lenguage not in lista_lenguajes:\n",
    "            lista_lenguajes.append(lenguage)\n",
    "       \n",
    "print(lista_lenguajes)\n"
   ]
  }
 ],
 "metadata": {
  "kernelspec": {
   "display_name": "Python 3",
   "language": "python",
   "name": "python3"
  },
  "language_info": {
   "codemirror_mode": {
    "name": "ipython",
    "version": 3
   },
   "file_extension": ".py",
   "mimetype": "text/x-python",
   "name": "python",
   "nbconvert_exporter": "python",
   "pygments_lexer": "ipython3",
   "version": "3.6.9"
  }
 },
 "nbformat": 4,
 "nbformat_minor": 2
}
