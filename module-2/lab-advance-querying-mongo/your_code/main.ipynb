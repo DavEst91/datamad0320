{
 "cells": [
  {
   "cell_type": "markdown",
   "metadata": {},
   "source": [
    "# Advanced Querying Mongo"
   ]
  },
  {
   "cell_type": "markdown",
   "metadata": {},
   "source": [
    "Importing libraries and setting up connection"
   ]
  },
  {
   "cell_type": "code",
   "execution_count": 138,
   "metadata": {
    "scrolled": true
   },
   "outputs": [
    {
     "name": "stdout",
     "output_type": "stream",
     "text": [
      "mongodb://localhost/companies\n"
     ]
    }
   ],
   "source": [
    "from pymongo import MongoClient,DESCENDING,ASCENDING\n",
    "import re\n",
    "\n",
    "dbName = \"companies\"\n",
    "mongodbURL = f\"mongodb://localhost/{dbName}\"\n",
    "print(mongodbURL)\n",
    "client = MongoClient(mongodbURL, connectTimeoutMS=2000,serverSelectionTimeoutMS=2000)\n",
    "db = client.get_database()"
   ]
  },
  {
   "cell_type": "markdown",
   "metadata": {},
   "source": [
    "### 1. All the companies whose name match 'Babelgum'. Retrieve only their `name` field."
   ]
  },
  {
   "cell_type": "code",
   "execution_count": 69,
   "metadata": {},
   "outputs": [],
   "source": [
    "#%time\n",
    "searchre=re.compile(\"^Babelgum.*\")\n",
    "cursor = db.companies.find({\"name\":searchre},{\"name\":1})"
   ]
  },
  {
   "cell_type": "markdown",
   "metadata": {},
   "source": [
    "### 2. All the companies that have more than 5000 employees. Limit the search to 20 companies and sort them by **number of employees**."
   ]
  },
  {
   "cell_type": "code",
   "execution_count": 61,
   "metadata": {},
   "outputs": [],
   "source": [
    "\n",
    "cursor=db.companies.find({\"number_of_employees\":{\"$gte\":5000}}).sort([\n",
    "   (\"number_of_employees\", DESCENDING)]).limit(20)"
   ]
  },
  {
   "cell_type": "markdown",
   "metadata": {},
   "source": [
    "### 3. All the companies founded between 2000 and 2005, both years included. Retrieve only the `name` and `founded_year` fields."
   ]
  },
  {
   "cell_type": "code",
   "execution_count": 68,
   "metadata": {},
   "outputs": [],
   "source": [
    "cursor=db.companies.find({\"founded_year\":{\"$gte\":2000,\"$lte\":2005}},{\"name\":1,\"founded_year\":1})"
   ]
  },
  {
   "cell_type": "markdown",
   "metadata": {},
   "source": [
    "### 4. All the companies that had a Valuation Amount of more than 100.000.000 and have been founded before 2010. Retrieve only the `name` and `ipo` fields."
   ]
  },
  {
   "cell_type": "code",
   "execution_count": 165,
   "metadata": {},
   "outputs": [],
   "source": [
    "cursor=db.companies.find({\"$and\":[{\"ipo.valuation_amount\":{\"$gt\":100000000}},{\"founded_year\":{\"$lt\":2010}}]})"
   ]
  },
  {
   "cell_type": "markdown",
   "metadata": {},
   "source": [
    "### 5. All the companies that have less than 1000 employees and have been founded before 2005. Order them by the number of employees and limit the search to 10 companies."
   ]
  },
  {
   "cell_type": "code",
   "execution_count": 78,
   "metadata": {},
   "outputs": [],
   "source": [
    "cursor=db.companies.find({\"$and\": [{\"number_of_employees\":{\"$lt\":5000} }, {\"founded_year\":{\"$lt\":2005}}]}).sort([\n",
    "   (\"number_of_employees\", DESCENDING)]).limit(10)"
   ]
  },
  {
   "cell_type": "markdown",
   "metadata": {},
   "source": [
    "### 6. All the companies that don't include the `partners` field."
   ]
  },
  {
   "cell_type": "code",
   "execution_count": 88,
   "metadata": {},
   "outputs": [],
   "source": [
    "cursor=db.companies.find({\"partners\":{\"$exists\":False}})"
   ]
  },
  {
   "cell_type": "markdown",
   "metadata": {},
   "source": [
    "### 7. All the companies that have a null type of value on the `category_code` field."
   ]
  },
  {
   "cell_type": "code",
   "execution_count": 96,
   "metadata": {},
   "outputs": [],
   "source": [
    "cursor=db.companies.find({\"category_code\":None})"
   ]
  },
  {
   "cell_type": "markdown",
   "metadata": {},
   "source": [
    "### 8. All the companies that have at least 100 employees but less than 1000. Retrieve only the `name` and `number of employees` fields."
   ]
  },
  {
   "cell_type": "code",
   "execution_count": 99,
   "metadata": {},
   "outputs": [],
   "source": [
    "cursor=db.companies.find({\"number_of_employees\":{\"$gte\":100,\"$lte\":1000}},{\"name\":1,\"number_of_employees\":1})"
   ]
  },
  {
   "cell_type": "markdown",
   "metadata": {},
   "source": [
    "### 9. Order all the companies by their IPO price in a descending order."
   ]
  },
  {
   "cell_type": "code",
   "execution_count": 169,
   "metadata": {},
   "outputs": [],
   "source": [
    "cursor=db.companies.find({}).sort([(\"ipo.valuation_amount\", DESCENDING)])"
   ]
  },
  {
   "cell_type": "markdown",
   "metadata": {},
   "source": [
    "### 10. Retrieve the 10 companies with more employees, order by the `number of employees`"
   ]
  },
  {
   "cell_type": "code",
   "execution_count": 162,
   "metadata": {},
   "outputs": [],
   "source": [
    "cursor=db.companies.find({}).sort([(\"number_of_employees\", DESCENDING)]).limit(10)"
   ]
  },
  {
   "cell_type": "markdown",
   "metadata": {},
   "source": [
    "### 11. All the companies founded on the second semester of the year. Limit your search to 1000 companies."
   ]
  },
  {
   "cell_type": "code",
   "execution_count": 111,
   "metadata": {},
   "outputs": [],
   "source": [
    "cursor=db.companies.find({\"founded_month\":{\"$gte\":7,\"$lt\":12}}).limit(1000)"
   ]
  },
  {
   "cell_type": "markdown",
   "metadata": {},
   "source": [
    "### 12. All the companies founded before 2000 that have an acquisition amount of more than 10.000.000"
   ]
  },
  {
   "cell_type": "code",
   "execution_count": 118,
   "metadata": {},
   "outputs": [],
   "source": [
    "cursor=db.companies.find({\"$and\":[{\"founded_year\":{\"$lt\":2000}},{\"acquisition.price_amount\":{\"$gt\" :10000000}}]})"
   ]
  },
  {
   "cell_type": "markdown",
   "metadata": {},
   "source": [
    "### 13. All the companies that have been acquired after 2010, order by the acquisition amount, and retrieve only their `name` and `acquisition` field."
   ]
  },
  {
   "cell_type": "code",
   "execution_count": 124,
   "metadata": {},
   "outputs": [],
   "source": [
    "cursor=db.companies.find({\"acquisition.acquired_year\":{\"$lt\":2010}},{\"name\":1,\"acquisition\":1}).sort([(\"acquisition.price_amount\", DESCENDING)])"
   ]
  },
  {
   "cell_type": "markdown",
   "metadata": {},
   "source": [
    "### 14. Order the companies by their `founded year`, retrieving only their `name` and `founded year`."
   ]
  },
  {
   "cell_type": "code",
   "execution_count": 130,
   "metadata": {},
   "outputs": [],
   "source": [
    "cursor=db.companies.find({},{\"name\":1,\"founded_year\":1}).sort([(\"founded_year\", DESCENDING)])"
   ]
  },
  {
   "cell_type": "markdown",
   "metadata": {},
   "source": [
    "### 15. All the companies that have been founded on the first seven days of the month, including the seventh. Sort them by their `acquisition price` in a descending order. Limit the search to 10 documents."
   ]
  },
  {
   "cell_type": "code",
   "execution_count": 133,
   "metadata": {},
   "outputs": [],
   "source": [
    "cursor=db.companies.find({\"founded_day\":{\"$lte\":7}}).sort([(\"acquisition.price_amount\", DESCENDING)]).limit(10)"
   ]
  },
  {
   "cell_type": "markdown",
   "metadata": {},
   "source": [
    "### 16. All the companies on the 'web' `category` that have more than 4000 employees. Sort them by the amount of employees in ascending order."
   ]
  },
  {
   "cell_type": "code",
   "execution_count": 149,
   "metadata": {},
   "outputs": [],
   "source": [
    "cursor=db.companies.find({\"$and\":[{\"category_code\":{\"$eq\":\"web\"}},{\"number_of_employees\":{\"$gt\":4000}}]}).sort([(\"number_of_employees\", ASCENDING)])"
   ]
  },
  {
   "cell_type": "markdown",
   "metadata": {},
   "source": [
    "### 17. All the companies whose acquisition amount is more than 10.000.000, and currency is 'EUR'."
   ]
  },
  {
   "cell_type": "code",
   "execution_count": 153,
   "metadata": {},
   "outputs": [],
   "source": [
    "cursor=db.companies.find({\"$and\":[{\"acquisition.price_amount\":{\"$gt\":10000000}},{\"acquisition.price_currency_code\":{\"$eq\":\"EUR\"}}]})"
   ]
  },
  {
   "cell_type": "markdown",
   "metadata": {},
   "source": [
    "### 18. All the companies that have been acquired on the first trimester of the year. Limit the search to 10 companies, and retrieve only their `name` and `acquisition` fields."
   ]
  },
  {
   "cell_type": "code",
   "execution_count": 156,
   "metadata": {},
   "outputs": [],
   "source": [
    "cursor=db.companies.find({\"acquisition.acquired_month\":{\"$lte\":3}},{\"name\":1,\"acquisition\":1}).limit(10)"
   ]
  },
  {
   "cell_type": "markdown",
   "metadata": {},
   "source": [
    "# Bonus\n",
    "### 19. All the companies that have been founded between 2000 and 2010, but have not been acquired before 2011."
   ]
  },
  {
   "cell_type": "code",
   "execution_count": 161,
   "metadata": {},
   "outputs": [],
   "source": [
    "cursor=db.companies.find({\"$and\":[{\"founded_year\":{\"$gte\":2000}},{\"founded_year\":{\"$lte\":2010}},{\"acquisition.acquired_year\":{\"$lt\":2011}}]})"
   ]
  },
  {
   "cell_type": "markdown",
   "metadata": {},
   "source": [
    "### 20. All the companies that have been 'deadpooled' after the third year."
   ]
  },
  {
   "cell_type": "code",
   "execution_count": 187,
   "metadata": {
    "scrolled": true
   },
   "outputs": [
    {
     "ename": "TypeError",
     "evalue": "unsupported operand type(s) for -: 'str' and 'str'",
     "output_type": "error",
     "traceback": [
      "\u001b[0;31m---------------------------------------------------------------------------\u001b[0m",
      "\u001b[0;31mTypeError\u001b[0m                                 Traceback (most recent call last)",
      "\u001b[0;32m<ipython-input-187-252f5f62d9ec>\u001b[0m in \u001b[0;36m<module>\u001b[0;34m()\u001b[0m\n\u001b[0;32m----> 1\u001b[0;31m \u001b[0mcursor\u001b[0m\u001b[0;34m=\u001b[0m\u001b[0mdb\u001b[0m\u001b[0;34m.\u001b[0m\u001b[0mcompanies\u001b[0m\u001b[0;34m.\u001b[0m\u001b[0mfind\u001b[0m\u001b[0;34m(\u001b[0m \u001b[0;34m{\u001b[0m \u001b[0;34m\"$where\"\u001b[0m \u001b[0;34m:\u001b[0m \u001b[0;34m{\u001b[0m\u001b[0;34m\"deadpooled_year\"\u001b[0m\u001b[0;34m-\u001b[0m\u001b[0;34m\"founded_year\"\u001b[0m\u001b[0;34m:\u001b[0m\u001b[0;34m{\u001b[0m\u001b[0;34m\"$lt\"\u001b[0m\u001b[0;34m:\u001b[0m\u001b[0;36m3\u001b[0m\u001b[0;34m}\u001b[0m\u001b[0;34m}\u001b[0m\u001b[0;34m}\u001b[0m \u001b[0;34m)\u001b[0m\u001b[0;34m.\u001b[0m\u001b[0mcount\u001b[0m\u001b[0;34m(\u001b[0m\u001b[0;34m)\u001b[0m\u001b[0;34m\u001b[0m\u001b[0;34m\u001b[0m\u001b[0m\n\u001b[0m",
      "\u001b[0;31mTypeError\u001b[0m: unsupported operand type(s) for -: 'str' and 'str'"
     ]
    }
   ],
   "source": [
    "cursor=db.companies.find( { \"$where\" : {\"deadpooled_year\"-\"founded_year\":{\"$lt\":3}}} ).count()"
   ]
  }
 ],
 "metadata": {
  "kernelspec": {
   "display_name": "Python 3",
   "language": "python",
   "name": "python3"
  },
  "language_info": {
   "codemirror_mode": {
    "name": "ipython",
    "version": 3
   },
   "file_extension": ".py",
   "mimetype": "text/x-python",
   "name": "python",
   "nbconvert_exporter": "python",
   "pygments_lexer": "ipython3",
   "version": "3.6.9"
  }
 },
 "nbformat": 4,
 "nbformat_minor": 2
}
